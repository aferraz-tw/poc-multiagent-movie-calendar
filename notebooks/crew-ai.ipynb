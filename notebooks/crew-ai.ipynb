{
 "cells": [
  {
   "cell_type": "code",
   "execution_count": 1,
   "id": "7cc89458-2170-4c7c-b562-1b34c6d915da",
   "metadata": {},
   "outputs": [
    {
     "data": {
      "text/plain": [
       "True"
      ]
     },
     "execution_count": 1,
     "metadata": {},
     "output_type": "execute_result"
    }
   ],
   "source": [
    "from crewai import Agent, Task, Crew\n",
    "from langchain_google_genai import ChatGoogleGenerativeAI\n",
    "from vertexai.generative_models import GenerativeModel\n",
    "from dotenv import load_dotenv\n",
    "\n",
    "dotenv_path = \"../.env\"\n",
    "load_dotenv(dotenv_path)"
   ]
  },
  {
   "cell_type": "code",
   "execution_count": 2,
   "id": "2c345dba-5611-46d4-8fec-f8ee35e2605b",
   "metadata": {},
   "outputs": [],
   "source": [
    "import os\n",
    "\n",
    "llm = ChatGoogleGenerativeAI(\n",
    "    model=\"gemini-1.5-flash\",\n",
    "    verbose=True,\n",
    "    temperature=0,\n",
    "    google_api_key=os.getenv(\"GEMINI_API_KEY\"),\n",
    ")"
   ]
  },
  {
   "cell_type": "code",
   "execution_count": 3,
   "id": "94fb24f7-8a4c-4ff6-8c6a-e34147bae737",
   "metadata": {},
   "outputs": [],
   "source": [
    "from crewai_tools import tool\n",
    "from crewai_tools import SerperDevTool\n",
    "\n",
    "search_mechanism = SerperDevTool(location=\"Brazil\", hl=\"pt-br\")\n",
    "\n",
    "@tool(\"Busca informações na web\")\n",
    "def search_about_movies_in_web(search_query: str):\n",
    "    \"\"\"Busca informações na Internet. Exemplo de como usar: search_about_movies_in_web('data estreia <nome-filme> no Brasil em 2024')\"\"\"\n",
    "    search_results = search_mechanism.run(search_query=search_query)\n",
    "    return search_results"
   ]
  },
  {
   "cell_type": "code",
   "execution_count": 4,
   "id": "a68f4f50-2791-4a92-adbd-fccc648e1c8d",
   "metadata": {},
   "outputs": [],
   "source": [
    "def get_summary_for_movies(movie_names: list[str]):\n",
    "    search_agent = Agent(\n",
    "        role=\"Especialista em Buscar informações sobre estreias de filmes no Brasil nos cinemas\",\n",
    "        goal=\"Pesquisa sobre filmes que estão para estrear no Brasil nos cinemas\",\n",
    "        backstory=\"\"\"\n",
    "              Você é um jornalista de cinema e gosta de filmes mais cults, é muito ligado em premiações.\n",
    "              Você é especialista em encontrar datas exatas de estreias do filmes no Brasil\n",
    "        \"\"\",\n",
    "        llm=llm,\n",
    "        verbose=True,\n",
    "        tools=[search_about_movies_in_web],\n",
    "    )\n",
    "\n",
    "    search_tasks = [\n",
    "        Task(\n",
    "            description=f\"\"\"Encontrar de todos os filmes especificados especificamente no Brasil no ano de 2024.\n",
    "                        Devem ser desconsiderados: datas de estreias globais e datas de estreias em festivais, \n",
    "                        considere apenas datas que você esteja confiante, se não estiver\n",
    "                        confiante da data, coloque em release_date que não foi possível encontrar uma data confiável.\n",
    "                        \n",
    "                        Filmes Especificados: {movie_name}\n",
    "                        \"\"\",\n",
    "            agent=search_agent,\n",
    "            expected_output=f\"\"\"\n",
    "                           Nome do filme, com dia exato estreia para grande público do fime no Brasil em 2024, se não houver\n",
    "                           preencha release_date dizendo que não foi possível encontrar dado confiável.\n",
    "                           um comentário com o nível de certeza da data e porquê.\n",
    "                           Estreias em festivais não devem ser consideradas. \n",
    "                           \n",
    "                           Filmes Especificados: {movie_name}\"\"\",\n",
    "            verbose=True,\n",
    "        )\n",
    "        for movie_name in movie_names\n",
    "    ]\n",
    "\n",
    "    crew = Crew(\n",
    "        agents=[search_agent],\n",
    "        tasks=search_tasks,\n",
    "        verbose=True,\n",
    "    )\n",
    "    content = crew.kickoff()\n",
    "    return content"
   ]
  },
  {
   "cell_type": "code",
   "execution_count": 5,
   "id": "ec6b37e0-cc41-46cf-9412-7ca16d6f1158",
   "metadata": {},
   "outputs": [
    {
     "name": "stdout",
     "output_type": "stream",
     "text": [
      "\u001b[1m\u001b[95m [DEBUG]: == Working Agent: Especialista em Buscar informações sobre estreias de filmes no Brasil nos cinemas\u001b[00m\n",
      "\u001b[1m\u001b[95m [INFO]: == Starting Task: Encontrar de todos os filmes especificados especificamente no Brasil no ano de 2024.\n",
      "                        Devem ser desconsiderados: datas de estreias globais e datas de estreias em festivais, \n",
      "                        considere apenas datas que você esteja confiante, se não estiver\n",
      "                        confiante da data, coloque em release_date que não foi possível encontrar uma data confiável.\n",
      "                        \n",
      "                        Filmes Especificados: Anora\n",
      "                        \u001b[00m\n",
      "\n",
      "\n",
      "\u001b[1m> Entering new CrewAgentExecutor chain...\u001b[0m\n",
      "\u001b[32;1m\u001b[1;3mThought: Preciso encontrar a data de estreia de \"Anora\" no Brasil em 2024. Vou procurar informações na web.\n",
      "\n",
      "Action: Busca informações na web\n",
      "Action Input: { \"search_query\": \"'data estreia Anora no Brasil em 2024'\" }\u001b[0mUsing Tool: Search the internet\n",
      "\u001b[95m \n",
      "\n",
      "\n",
      "Search results: Title: Anora é adiado para 23 de janeiro de 2025 no Brasil - Omelete\n",
      "Link: https://www.omelete.com.br/filmes/anora-estreia-quando-brasil-adiado-2025\n",
      "Snippet: ... estreia no mercado nacional em 23 de janeiro de 2025. O adiamento vem faltando apenas 20 dias para a data original de Anora no Brasil.\n",
      "---\n",
      "Title: “Anora“: vencedor de Cannes e favorito ao Oscar ganha nova data ...\n",
      "Link: https://www.cnnbrasil.com.br/entretenimento/anora-vencedor-de-cannes-e-favorito-ao-oscar-ganha-nova-data-no-brasil/\n",
      "Snippet: Filme de Sean Baker, de \"Tangerina\" e \"O Projeto Flórida\", chegaria aos cinemas de 31 de outubro.\n",
      "---\n",
      "Title: 'Anora', vencedor da Palma de Ouro, ganha trailer e data de estreia ...\n",
      "Link: https://exame.com/pop/anora-vencedor-da-palma-de-ouro-ganha-trailer-e-data-de-estreia-no-brasil-veja-onde-assistir/\n",
      "Snippet: O filme tem estreia prevista para a 48ª Mostra Internacional de Cinema em São Paulo, que acontece entre os dias 17 e 30 de outubro. A data ...\n",
      "---\n",
      "Title: Vencedor de Cannes e favorito ao Oscar, “Anora” ganha nova data ...\n",
      "Link: https://redemlc.com.br/vencedor-de-cannes-e-favorito-ao-oscar-anora-ganha-nova-data-no-brasil/\n",
      "Snippet: Vencedor da Palma de Ouro no Festival de Cannes 2024 , o filme “Anora” ganhou uma nova data de estreia no Brasil: 23 de janeiro. A produção de ...\n",
      "---\n",
      "Title: Anora | Vencedor da Palma de Ouro ganha data de estreia no Brasil\n",
      "Link: https://www.omelete.com.br/filmes/anora-palma-de-ouro-data-de-estreia-brasil\n",
      "Snippet: 10.08.2024, às 18H12. Anora, o vencedor da Palma de Ouro do último Festival de Cannes, ganhou data de estreia no Brasil. De acordo com o ...\n",
      "---\n",
      "Title: “Anora”: quando estreia o filme no Brasil? - Tracklist\n",
      "Link: https://tracklist.com.br/anora-filme-estreia/193277\n",
      "Snippet: “Anora” chega aos cinemas brasileiros no dia 31 de outubro. Confira o trailer oficial do filme abaixo: ...\n",
      "---\n",
      "Title: Anora, vencedor da Palma de Ouro em Cannes, ganha data de ...\n",
      "Link: https://rollingstone.com.br/cinema/anora-vencedor-da-palma-de-ouro-em-cannes-ganha-data-de-estreia-no-brasil/\n",
      "Snippet: A Universal Pictures anunciou, nesta quinta-feira (12), a data de estreia de Anora, longa escrito e dirigido por Sean Baker, de Tangerina ...\n",
      "---\n",
      "Title: Anora | Vencedor da Palma de Ouro em Cannes é adiado no Brasil\n",
      "Link: https://ovicio.com.br/anora-adiado-no-brasil/\n",
      "Snippet: Anora (2024) agora só vai estrear em 23 janeiro de 2025, seguindo a tradicional janela brasileira dos filmes em campanha no Oscar. Reprodução/ ...\n",
      "---\n",
      "Title: Anora, o novo filme de Sean Baker e vencedor da Palma de Ouro ...\n",
      "Link: https://www.threads.net/@os.cinemistas/post/DA_tka9pyLu\n",
      "Snippet: ... estreia no mercado nacional em 23 de janeiro de 2025. O adiamento vem faltando apenas 20 dias para a data original de Anora no Brasil.\n",
      "---\n",
      "Title: Anora: Vencedor da Palma de Ouro ganha data de estreia no Brasil\n",
      "Link: https://www.chippu.com.br/noticias/anora-data-estreia-brasil-quando-sai-mikey-madison\n",
      "Snippet: Anora foi adquirido pela Universal Pictures para o lançamento na América Latina, mas ainda não tem previsão de estreia no Brasil. Nos Estados Unidos, ele será ...\n",
      "---\n",
      "\n",
      "\u001b[00m\n",
      "\u001b[32;1m\u001b[1;3mThought: I now know the final answer\n",
      "Final Answer: \n",
      "Anora, release_date: 23 de janeiro de 2025.\n",
      "Certeza: Alta. A data foi confirmada por diversos veículos de comunicação, incluindo Omelete, CNN Brasil, Exame, RedeMLC, Ovício e Rolling Stone. A data original de estreia era 31 de outubro de 2024, mas foi adiada para 23 de janeiro de 2025. \n",
      " \n",
      "\u001b[0m\n",
      "\n",
      "\u001b[1m> Finished chain.\u001b[0m\n",
      "\u001b[1m\u001b[92m [DEBUG]: == [Especialista em Buscar informações sobre estreias de filmes no Brasil nos cinemas] Task output: Anora, release_date: 23 de janeiro de 2025.\n",
      "Certeza: Alta. A data foi confirmada por diversos veículos de comunicação, incluindo Omelete, CNN Brasil, Exame, RedeMLC, Ovício e Rolling Stone. A data original de estreia era 31 de outubro de 2024, mas foi adiada para 23 de janeiro de 2025.\n",
      "\n",
      "\u001b[00m\n"
     ]
    }
   ],
   "source": [
    "result = get_summary_for_movies([\"Anora\"])"
   ]
  },
  {
   "cell_type": "code",
   "execution_count": 6,
   "id": "16cd7e13-f46b-4bf1-94fd-b1e290929c31",
   "metadata": {},
   "outputs": [
    {
     "data": {
      "text/plain": [
       "'Anora, release_date: 23 de janeiro de 2025.\\nCerteza: Alta. A data foi confirmada por diversos veículos de comunicação, incluindo Omelete, CNN Brasil, Exame, RedeMLC, Ovício e Rolling Stone. A data original de estreia era 31 de outubro de 2024, mas foi adiada para 23 de janeiro de 2025.'"
      ]
     },
     "execution_count": 6,
     "metadata": {},
     "output_type": "execute_result"
    }
   ],
   "source": [
    "result"
   ]
  }
 ],
 "metadata": {
  "kernelspec": {
   "display_name": ".movies.venv",
   "language": "python",
   "name": ".movies.venv"
  },
  "language_info": {
   "codemirror_mode": {
    "name": "ipython",
    "version": 3
   },
   "file_extension": ".py",
   "mimetype": "text/x-python",
   "name": "python",
   "nbconvert_exporter": "python",
   "pygments_lexer": "ipython3",
   "version": "3.12.4"
  }
 },
 "nbformat": 4,
 "nbformat_minor": 5
}
